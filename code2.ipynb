{
 "cells": [
  {
   "cell_type": "code",
   "execution_count": 1,
   "id": "e6e8b045",
   "metadata": {},
   "outputs": [],
   "source": [
    "from selenium import webdriver\n",
    "from selenium.webdriver.common.by import By\n",
    "from selenium.webdriver.chrome.service import Service\n",
    "from selenium.webdriver.common.keys import Keys\n",
    "from time import sleep\n",
    "import threading\n",
    "import random"
   ]
  },
  {
   "cell_type": "code",
   "execution_count": 2,
   "id": "72e4ebb9",
   "metadata": {},
   "outputs": [],
   "source": [
    "class SeleniumScraper:\n",
    "    def __init__(self):\n",
    "        self.driver = self.setup_webdriver()\n",
    "        self.wait_time = random.random()*4+2\n",
    "\n",
    "    def setup_webdriver(self):\n",
    "        my_options = webdriver.ChromeOptions()\n",
    "        my_options.add_argument(\"--incognito\")\n",
    "        my_service = Service()\n",
    "        driver = webdriver.Chrome(\n",
    "            options=my_options,\n",
    "            service=my_service\n",
    "        )\n",
    "        return driver\n",
    "\n",
    "    def open_website(self):\n",
    "        self.driver.get(\"https://portal.sw.nat.gov.tw/APGQ/XGB301\")  #關港貿單一窗口\n",
    "        sleep(self.wait_time)\n",
    "\n",
    "    def input_declaration_number(self, cpno):\n",
    "        inputElement = self.driver.find_element(By.ID, \"declNo\")  #報單號碼欄位id\n",
    "        inputElement.send_keys(cpno)\n",
    "        inputElement.send_keys(Keys.RETURN)\n",
    "        sleep(self.wait_time)\n",
    "\n",
    "    def output_results(self):\n",
    "        outputElement = self.driver.find_element(By.ID, \"detail_grid2\")  #查詢結果欄\n",
    "        results = outputElement.text.split(\"\\n\")\n",
    "\n",
    "        for i in range(len(results)-1, 0, -1):\n",
    "            if \"放行\" in results[i]:\n",
    "                print(results[i])\n",
    "        print(\"=\" * 50)\n",
    "\n",
    "    def close_driver(self):\n",
    "        self.driver.quit()"
   ]
  },
  {
   "cell_type": "code",
   "execution_count": 3,
   "id": "faf36c1d",
   "metadata": {
    "scrolled": false
   },
   "outputs": [
    {
     "name": "stdout",
     "output_type": "stream",
     "text": [
      "報單號碼: AAF212557A0181\n",
      "14 112-08-16 10:13:55 RL 放行 N0000-8G173002\n",
      "==================================================\n",
      "報單號碼: CA  1213300833\n",
      "11 112-07-18 14:22:16 RL 放行 N0000-7I063305\n",
      "==================================================\n",
      "報單號碼: CA  1213300832\n",
      "==================================================\n"
     ]
    }
   ],
   "source": [
    "# from selenium_scraper import SeleniumScraper  # 假設你的爬蟲程式放在selenium_scraper.py中\n",
    "\n",
    "def crawl(query_target):\n",
    "    scraper = SeleniumScraper()\n",
    "    scraper.open_website()\n",
    "    scraper.input_declaration_number(query_target)\n",
    "    print(\"報單號碼:\",query_target)\n",
    "    scraper.output_results()\n",
    "    scraper.close_driver()\n",
    "\n",
    "if __name__ == \"__main__\":\n",
    "    \n",
    "    query_targets = []\n",
    "    with open(\"./報單號碼查詢.txt\", \"r\") as file:\n",
    "        query_targets += [line.strip() for line in file.readlines()]   \n",
    "#     query_targets = [\"AAF212557A0181\",\"CA  1213300833\",\"CA  1213300832\"]  # 這裡替換成你的查詢目標列表\n",
    "\n",
    "    # 創建一個多執行緒列表\n",
    "    threads = []\n",
    "\n",
    "    # 創建並啟動多執行緒\n",
    "    for query_target in query_targets:\n",
    "        thread = threading.Thread(target=crawl, args=(query_target,))\n",
    "        threads.append(thread)\n",
    "        thread.start()\n",
    "\n",
    "    # 等待所有多執行緒完成\n",
    "    for thread in threads:\n",
    "        thread.join()\n"
   ]
  }
 ],
 "metadata": {
  "kernelspec": {
   "display_name": "Python3@da",
   "language": "python",
   "name": "da"
  },
  "language_info": {
   "codemirror_mode": {
    "name": "ipython",
    "version": 3
   },
   "file_extension": ".py",
   "mimetype": "text/x-python",
   "name": "python",
   "nbconvert_exporter": "python",
   "pygments_lexer": "ipython3",
   "version": "3.10.12"
  }
 },
 "nbformat": 4,
 "nbformat_minor": 5
}
